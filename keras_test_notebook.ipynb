{
 "cells": [
  {
   "cell_type": "code",
   "execution_count": 4,
   "metadata": {},
   "outputs": [],
   "source": [
    "import pandas as pd\n",
    "import numpy as np\n",
    "import os\n",
    "\n",
    "os.environ[\"KERAS_BACKEND\"] = \"tensorflow\"\n",
    "import keras\n",
    "\n",
    "from rdkit import Chem\n",
    "from sklearn.model_selection import train_test_split\n",
    "from generator import get_x_y"
   ]
  },
  {
   "cell_type": "markdown",
   "metadata": {},
   "source": [
    "### Load pregenerated data\n",
    "\n",
    "mmap mode in numpy uses data from disk\n"
   ]
  },
  {
   "cell_type": "code",
   "execution_count": null,
   "metadata": {},
   "outputs": [],
   "source": [
    "# load pregenerated data\n",
    "x_data = np.load('test_np_X.npy', mmap_mode='r', allow_pickle=True)\n",
    "y_data = np.load('test_np_Y.npy', mmap_mode='r', allow_pickle=True)\n",
    "print('X: ', x_data.shape)\n",
    "print('Y: ', y_data.shape)\n",
    "output_shape = (x_data.shape[1:3])\n",
    "print(output_shape)"
   ]
  },
  {
   "cell_type": "markdown",
   "metadata": {},
   "source": [
    "### Split data\n",
    "\n",
    "into train and test using sk-learn helper function"
   ]
  },
  {
   "cell_type": "code",
   "execution_count": null,
   "metadata": {},
   "outputs": [],
   "source": [
    "x_train, x_test, y_train, y_test = train_test_split(\n",
    "    x_data, y_data, test_size=0.33, random_state=42)\n",
    "print(\"x_train shape:\", x_train.shape)\n",
    "print(\"y_train shape:\", y_train.shape)\n",
    "print(x_train.shape[0], \"train samples\")\n",
    "print(x_test.shape[0], \"test samples\")"
   ]
  },
  {
   "cell_type": "markdown",
   "metadata": {},
   "source": [
    "### Model creation\n",
    "\n",
    "Adding layers"
   ]
  },
  {
   "cell_type": "code",
   "execution_count": 7,
   "metadata": {},
   "outputs": [],
   "source": [
    "# Model parameters\n",
    "\n",
    "input_shape = (*output_shape, 1)\n",
    "\n",
    "model = keras.Sequential(\n",
    "    [   \n",
    "        keras.layers.Input(shape=input_shape),\n",
    "        keras.layers.Conv2D(32, kernel_size=(3, 3), activation=\"relu\"),\n",
    "        keras.layers.MaxPooling2D(pool_size=(2, 2)),\n",
    "        keras.layers.Conv2D(32, kernel_size=(3, 3), activation=\"relu\"),\n",
    "        keras.layers.Conv2D(64, kernel_size=(3, 3), activation=\"relu\"),\n",
    "        keras.layers.MaxPooling2D(pool_size=(3, 3)),\n",
    "        keras.layers.Dense(40, activation='relu'),\n",
    "        keras.layers.Flatten(),\n",
    "        keras.layers.Reshape((92160, 1)),\n",
    "        #keras.layers.Dropout(0.5),\n",
    "        keras.layers.Cropping1D(cropping=1080),\n",
    "        #keras.layers.Dense(5),\n",
    "        #keras.layers.Dropout(0.5),\n",
    "        keras.layers.Reshape((300, 300, 1)),\n",
    "        keras.layers.Dense(1, activation=keras.activations.hard_sigmoid),\n",
    "    ]\n",
    ")\n"
   ]
  },
  {
   "cell_type": "markdown",
   "metadata": {},
   "source": [
    "### Compiling model \n",
    "\n",
    "geting summary after compilation"
   ]
  },
  {
   "cell_type": "code",
   "execution_count": null,
   "metadata": {},
   "outputs": [],
   "source": [
    "\n",
    "model.compile(\n",
    "        optimizer='adam',\n",
    "        loss='binary_crossentropy',\n",
    "        metrics=[\n",
    "        keras.metrics.Accuracy(name=\"acc\"),\n",
    "    ],\n",
    ")\n",
    "\n",
    "print(model.summary())\n",
    "\n",
    "batch_size = 256\n",
    "epochs = 5\n",
    "\n",
    "callbacks = [\n",
    "    keras.callbacks.ModelCheckpoint(filepath=\"model_at_epoch_{epoch}.keras\"),\n",
    "    keras.callbacks.EarlyStopping(monitor=\"val_loss\", patience=2),\n",
    "]\n"
   ]
  },
  {
   "cell_type": "markdown",
   "metadata": {},
   "source": [
    "### Training"
   ]
  },
  {
   "cell_type": "code",
   "execution_count": null,
   "metadata": {},
   "outputs": [],
   "source": [
    "\n",
    "model.fit(\n",
    "    x_train,\n",
    "    y_train,\n",
    "    batch_size=batch_size,\n",
    "    epochs=epochs,\n",
    "    validation_split=0.15,\n",
    "    callbacks=callbacks,\n",
    ")\n",
    "score = model.evaluate(x_test, y_test, verbose=1)"
   ]
  },
  {
   "cell_type": "markdown",
   "metadata": {},
   "source": [
    "### Prediction test\n",
    "\n",
    "test shape of final output"
   ]
  },
  {
   "cell_type": "code",
   "execution_count": null,
   "metadata": {},
   "outputs": [],
   "source": [
    "x_real, y_real = get_x_y('CCCO', image_dims = (300, 300))\n",
    "print('real x shape: ', x_real.shape)\n",
    "print('real y shape: ', y_real.shape)\n",
    "prd = model.predict(x_real.reshape(1, 300, 300, 1))\n",
    "print('predicted y shape: ', prd.shape)"
   ]
  }
 ],
 "metadata": {
  "kernelspec": {
   "display_name": "base",
   "language": "python",
   "name": "python3"
  },
  "language_info": {
   "codemirror_mode": {
    "name": "ipython",
    "version": 3
   },
   "file_extension": ".py",
   "mimetype": "text/x-python",
   "name": "python",
   "nbconvert_exporter": "python",
   "pygments_lexer": "ipython3",
   "version": "3.12.5"
  }
 },
 "nbformat": 4,
 "nbformat_minor": 4
}
