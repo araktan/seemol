{
 "cells": [
  {
   "cell_type": "code",
   "execution_count": 3,
   "metadata": {},
   "outputs": [],
   "source": [
    "import numpy as np\n",
    "import os\n",
    "\n",
    "os.environ[\"KERAS_BACKEND\"] = \"tensorflow\"\n",
    "\n",
    "import keras\n",
    "from rdkit import Chem\n",
    "import pandas as pd\n",
    "\n",
    "from sklearn.model_selection import train_test_split\n"
   ]
  },
  {
   "cell_type": "code",
   "execution_count": 53,
   "metadata": {},
   "outputs": [
    {
     "name": "stderr",
     "output_type": "stream",
     "text": [
      "[19:32:18] WARNING: not removing hydrogen atom without neighbors\n",
      "[19:32:19] WARNING: not removing hydrogen atom without neighbors\n",
      "[19:32:19] WARNING: not removing hydrogen atom without neighbors\n",
      "[19:32:21] WARNING: not removing hydrogen atom without neighbors\n",
      "[19:32:21] WARNING: not removing hydrogen atom without neighbors\n",
      "[19:32:21] WARNING: not removing hydrogen atom without neighbors\n",
      "[19:32:22] WARNING: not removing hydrogen atom without neighbors\n",
      "[19:32:22] WARNING: not removing hydrogen atom without neighbors\n",
      "[19:32:22] WARNING: not removing hydrogen atom without neighbors\n",
      "[19:32:23] WARNING: not removing hydrogen atom without neighbors\n",
      "[19:32:24] WARNING: not removing hydrogen atom without neighbors\n",
      "[19:32:26] WARNING: not removing hydrogen atom without neighbors\n",
      "[19:32:28] WARNING: not removing hydrogen atom without neighbors\n",
      "[19:32:28] WARNING: not removing hydrogen atom without neighbors\n",
      "[19:32:28] WARNING: not removing hydrogen atom without neighbors\n",
      "[19:32:30] WARNING: not removing hydrogen atom without neighbors\n",
      "[19:32:32] WARNING: not removing hydrogen atom without neighbors\n",
      "[19:32:32] WARNING: not removing hydrogen atom without neighbors\n",
      "[19:32:33] WARNING: not removing hydrogen atom without neighbors\n",
      "[19:32:35] unsupported number of radical electrons 6\n",
      "[19:32:40] WARNING: not removing hydrogen atom without neighbors\n",
      "[19:32:40] WARNING: not removing hydrogen atom without neighbors\n",
      "[19:32:44] WARNING: not removing hydrogen atom without neighbors\n",
      "[19:32:44] WARNING: not removing hydrogen atom without neighbors\n",
      "[19:32:46] unsupported number of radical electrons 5\n",
      "[19:32:47] WARNING: not removing hydrogen atom without neighbors\n",
      "[19:32:48] WARNING: not removing hydrogen atom without neighbors\n",
      "[19:32:49] WARNING: not removing hydrogen atom without neighbors\n",
      "[19:32:49] WARNING: not removing hydrogen atom without neighbors\n",
      "[19:32:58] WARNING: not removing hydrogen atom without neighbors\n",
      "[19:32:58] unsupported number of radical electrons 4\n",
      "[19:33:10] WARNING: not removing hydrogen atom without neighbors\n",
      "[19:33:15] WARNING: not removing hydrogen atom without neighbors\n",
      "[19:33:17] WARNING: not removing hydrogen atom without neighbors\n",
      "[19:33:17] WARNING: not removing hydrogen atom without neighbors\n",
      "[19:33:17] WARNING: not removing hydrogen atom without neighbors\n",
      "[19:33:18] WARNING: not removing hydrogen atom without neighbors\n",
      "[19:33:18] WARNING: not removing hydrogen atom without neighbors\n",
      "[19:33:18] WARNING: not removing hydrogen atom without neighbors\n",
      "[19:33:18] WARNING: not removing hydrogen atom without neighbors\n",
      "[19:33:23] WARNING: not removing hydrogen atom without neighbors\n",
      "[19:33:25] WARNING: not removing hydrogen atom without neighbors\n",
      "[19:33:27] WARNING: not removing hydrogen atom without neighbors\n",
      "[19:33:27] WARNING: not removing hydrogen atom without neighbors\n",
      "[19:33:29] WARNING: not removing hydrogen atom without neighbors\n",
      "[19:33:30] WARNING: not removing hydrogen atom without neighbors\n",
      "[19:33:31] WARNING: not removing hydrogen atom without neighbors\n",
      "[19:33:32] WARNING: not removing hydrogen atom without neighbors\n",
      "[19:33:33] WARNING: not removing hydrogen atom without neighbors\n",
      "[19:33:33] WARNING: not removing hydrogen atom without neighbors\n",
      "[19:33:33] WARNING: not removing hydrogen atom without neighbors\n",
      "[19:33:35] WARNING: not removing hydrogen atom without neighbors\n",
      "[19:33:36] WARNING: not removing hydrogen atom without neighbors\n",
      "[19:33:37] WARNING: not removing hydrogen atom without neighbors\n",
      "[19:33:37] WARNING: not removing hydrogen atom without neighbors\n",
      "[19:33:38] WARNING: not removing hydrogen atom without neighbors\n",
      "[19:33:38] WARNING: not removing hydrogen atom without neighbors\n"
     ]
    }
   ],
   "source": [
    "def get_x_y(smiles_string, image_dims=(60, 60)):\n",
    "    # TODO: needs assertion that the string is good   \n",
    "    mol = Chem.MolFromSmiles(smiles_string)\n",
    "    img = Chem.Draw.MolToImage(mol, size=image_dims)\n",
    "    thresh = 200\n",
    "    fn = lambda x : 0 if x > thresh else 255\n",
    "    r = img.convert('L').point(fn, mode='1')\n",
    "    #r = img.convert('L')\n",
    "    adj = Chem.GetAdjacencyMatrix(mol)\n",
    "    padded_adj = np.zeros(image_dims)\n",
    "    for index, bond_val in np.ndenumerate(adj):\n",
    "        padded_adj[index] += bond_val\n",
    "    return np.expand_dims(np.array(r), -1), np.expand_dims(padded_adj, -1)\n",
    "# data\n",
    "#df = pd.read_excel('data/SMILES_ID.xlsx')\n",
    "df = pd.read_csv('data/SMILES.csv')\n",
    "output_shape = (300, 300)\n",
    "x_data, y_data = [],[]\n",
    "#sel_smiles = []\n",
    "for SMILES in df['SMILES']:\n",
    "    try:\n",
    "        img, adj_matrix = get_x_y(SMILES, image_dims=output_shape)\n",
    "        x_data.append(img)\n",
    "        y_data.append(adj_matrix)\n",
    "        #sel_smiles.append(SMILES)\n",
    "    #except Exception as e:\n",
    "        #print(SMILES, e)\n",
    "    except:\n",
    "        continue\n",
    "\n",
    "x_data, y_data = np.array(x_data), np.array(y_data)"
   ]
  },
  {
   "cell_type": "code",
   "execution_count": 54,
   "metadata": {},
   "outputs": [
    {
     "name": "stdout",
     "output_type": "stream",
     "text": [
      "x_train shape: (6706, 300, 300, 1)\n",
      "y_train shape: (6706, 300, 300, 1)\n",
      "(6706, 300, 300, 1) train samples\n",
      "(3304, 300, 300, 1) test samples\n"
     ]
    }
   ],
   "source": [
    "x_train, x_test, y_train, y_test = train_test_split(\n",
    "    x_data, y_data, test_size=0.33, random_state=42)\n",
    "#x_train = np.expand_dims(x_train, -1)\n",
    "#x_test = np.expand_dims(x_test, -1)\n",
    "#y_train = np.expand_dims(y_train, -1)\n",
    "#y_test = np.expand_dims(y_test, -1)\n",
    "print(\"x_train shape:\", x_train.shape)\n",
    "print(\"y_train shape:\", y_train.shape)\n",
    "print(x_train.shape, \"train samples\")\n",
    "print(x_test.shape, \"test samples\")"
   ]
  },
  {
   "cell_type": "code",
   "execution_count": null,
   "metadata": {},
   "outputs": [
    {
     "data": {
      "text/html": [
       "<pre style=\"white-space:pre;overflow-x:auto;line-height:normal;font-family:Menlo,'DejaVu Sans Mono',consolas,'Courier New',monospace\"><span style=\"font-weight: bold\">Model: \"sequential_19\"</span>\n",
       "</pre>\n"
      ],
      "text/plain": [
       "\u001b[1mModel: \"sequential_19\"\u001b[0m\n"
      ]
     },
     "metadata": {},
     "output_type": "display_data"
    },
    {
     "data": {
      "text/html": [
       "<pre style=\"white-space:pre;overflow-x:auto;line-height:normal;font-family:Menlo,'DejaVu Sans Mono',consolas,'Courier New',monospace\">┏━━━━━━━━━━━━━━━━━━━━━━━━━━━━━━━━━┳━━━━━━━━━━━━━━━━━━━━━━━━┳━━━━━━━━━━━━━━━┓\n",
       "┃<span style=\"font-weight: bold\"> Layer (type)                    </span>┃<span style=\"font-weight: bold\"> Output Shape           </span>┃<span style=\"font-weight: bold\">       Param # </span>┃\n",
       "┡━━━━━━━━━━━━━━━━━━━━━━━━━━━━━━━━━╇━━━━━━━━━━━━━━━━━━━━━━━━╇━━━━━━━━━━━━━━━┩\n",
       "│ dense_52 (<span style=\"color: #0087ff; text-decoration-color: #0087ff\">Dense</span>)                │ (<span style=\"color: #00d7ff; text-decoration-color: #00d7ff\">None</span>, <span style=\"color: #00af00; text-decoration-color: #00af00\">300</span>, <span style=\"color: #00af00; text-decoration-color: #00af00\">300</span>, <span style=\"color: #00af00; text-decoration-color: #00af00\">30</span>)   │            <span style=\"color: #00af00; text-decoration-color: #00af00\">60</span> │\n",
       "├─────────────────────────────────┼────────────────────────┼───────────────┤\n",
       "│ dense_53 (<span style=\"color: #0087ff; text-decoration-color: #0087ff\">Dense</span>)                │ (<span style=\"color: #00d7ff; text-decoration-color: #00d7ff\">None</span>, <span style=\"color: #00af00; text-decoration-color: #00af00\">300</span>, <span style=\"color: #00af00; text-decoration-color: #00af00\">300</span>, <span style=\"color: #00af00; text-decoration-color: #00af00\">20</span>)   │           <span style=\"color: #00af00; text-decoration-color: #00af00\">620</span> │\n",
       "├─────────────────────────────────┼────────────────────────┼───────────────┤\n",
       "│ max_pooling2d (<span style=\"color: #0087ff; text-decoration-color: #0087ff\">MaxPooling2D</span>)    │ (<span style=\"color: #00d7ff; text-decoration-color: #00d7ff\">None</span>, <span style=\"color: #00af00; text-decoration-color: #00af00\">150</span>, <span style=\"color: #00af00; text-decoration-color: #00af00\">150</span>, <span style=\"color: #00af00; text-decoration-color: #00af00\">20</span>)   │             <span style=\"color: #00af00; text-decoration-color: #00af00\">0</span> │\n",
       "└─────────────────────────────────┴────────────────────────┴───────────────┘\n",
       "</pre>\n"
      ],
      "text/plain": [
       "┏━━━━━━━━━━━━━━━━━━━━━━━━━━━━━━━━━┳━━━━━━━━━━━━━━━━━━━━━━━━┳━━━━━━━━━━━━━━━┓\n",
       "┃\u001b[1m \u001b[0m\u001b[1mLayer (type)                   \u001b[0m\u001b[1m \u001b[0m┃\u001b[1m \u001b[0m\u001b[1mOutput Shape          \u001b[0m\u001b[1m \u001b[0m┃\u001b[1m \u001b[0m\u001b[1m      Param #\u001b[0m\u001b[1m \u001b[0m┃\n",
       "┡━━━━━━━━━━━━━━━━━━━━━━━━━━━━━━━━━╇━━━━━━━━━━━━━━━━━━━━━━━━╇━━━━━━━━━━━━━━━┩\n",
       "│ dense_52 (\u001b[38;5;33mDense\u001b[0m)                │ (\u001b[38;5;45mNone\u001b[0m, \u001b[38;5;34m300\u001b[0m, \u001b[38;5;34m300\u001b[0m, \u001b[38;5;34m30\u001b[0m)   │            \u001b[38;5;34m60\u001b[0m │\n",
       "├─────────────────────────────────┼────────────────────────┼───────────────┤\n",
       "│ dense_53 (\u001b[38;5;33mDense\u001b[0m)                │ (\u001b[38;5;45mNone\u001b[0m, \u001b[38;5;34m300\u001b[0m, \u001b[38;5;34m300\u001b[0m, \u001b[38;5;34m20\u001b[0m)   │           \u001b[38;5;34m620\u001b[0m │\n",
       "├─────────────────────────────────┼────────────────────────┼───────────────┤\n",
       "│ max_pooling2d (\u001b[38;5;33mMaxPooling2D\u001b[0m)    │ (\u001b[38;5;45mNone\u001b[0m, \u001b[38;5;34m150\u001b[0m, \u001b[38;5;34m150\u001b[0m, \u001b[38;5;34m20\u001b[0m)   │             \u001b[38;5;34m0\u001b[0m │\n",
       "└─────────────────────────────────┴────────────────────────┴───────────────┘\n"
      ]
     },
     "metadata": {},
     "output_type": "display_data"
    },
    {
     "data": {
      "text/html": [
       "<pre style=\"white-space:pre;overflow-x:auto;line-height:normal;font-family:Menlo,'DejaVu Sans Mono',consolas,'Courier New',monospace\"><span style=\"font-weight: bold\"> Total params: </span><span style=\"color: #00af00; text-decoration-color: #00af00\">680</span> (2.66 KB)\n",
       "</pre>\n"
      ],
      "text/plain": [
       "\u001b[1m Total params: \u001b[0m\u001b[38;5;34m680\u001b[0m (2.66 KB)\n"
      ]
     },
     "metadata": {},
     "output_type": "display_data"
    },
    {
     "data": {
      "text/html": [
       "<pre style=\"white-space:pre;overflow-x:auto;line-height:normal;font-family:Menlo,'DejaVu Sans Mono',consolas,'Courier New',monospace\"><span style=\"font-weight: bold\"> Trainable params: </span><span style=\"color: #00af00; text-decoration-color: #00af00\">680</span> (2.66 KB)\n",
       "</pre>\n"
      ],
      "text/plain": [
       "\u001b[1m Trainable params: \u001b[0m\u001b[38;5;34m680\u001b[0m (2.66 KB)\n"
      ]
     },
     "metadata": {},
     "output_type": "display_data"
    },
    {
     "data": {
      "text/html": [
       "<pre style=\"white-space:pre;overflow-x:auto;line-height:normal;font-family:Menlo,'DejaVu Sans Mono',consolas,'Courier New',monospace\"><span style=\"font-weight: bold\"> Non-trainable params: </span><span style=\"color: #00af00; text-decoration-color: #00af00\">0</span> (0.00 B)\n",
       "</pre>\n"
      ],
      "text/plain": [
       "\u001b[1m Non-trainable params: \u001b[0m\u001b[38;5;34m0\u001b[0m (0.00 B)\n"
      ]
     },
     "metadata": {},
     "output_type": "display_data"
    },
    {
     "name": "stdout",
     "output_type": "stream",
     "text": [
      "None\n"
     ]
    }
   ],
   "source": [
    "# Model parameters\n",
    "\n",
    "input_shape = (*output_shape, 1)\n",
    "\n",
    "model = keras.Sequential(\n",
    "    [   \n",
    "        keras.layers.Input(input_shape),\n",
    "        #keras.layers.Dense(60, activation='relu'),\n",
    "        keras.layers.Dense(30, activation='relu'),\n",
    "        keras.layers.Dense(20, activation=\"relu\"),\n",
    "        #keras.layers.Dense(10, activation=\"sigmoid\"),\n",
    "        #keras.layers.Dense(10, activation=\"relu\"),\n",
    "        #keras.layers.Dense(1, activation=\"relu\"),\n",
    "        #keras.layers.Dense(2, activation=\"relu\"),\n",
    "        #keras.layers.Conv2D(64, kernel_size=(3, 3), activation=\"relu\"),\n",
    "        #keras.layers.Conv2D(64, kernel_size=(3, 3), activation=\"relu\"),\n",
    "        keras.layers.MaxPooling2D(pool_size=(2, 2)),\n",
    "        #keras.layers.Conv2D(128, kernel_size=(3, 3), activation=\"relu\"),\n",
    "        #keras.layers.Conv2D(128, kernel_size=(3, 3), activation=\"relu\"),\n",
    "        #keras.layers.GlobalAveragePooling2D(),\n",
    "        #keras.layers.Dropout(0.5),\n",
    "        #keras.layers.Conv2D(64, kernel_size=(3,3), activation=\"relu\"),\n",
    "    ]\n",
    ")\n",
    "\n",
    "model.compile(\n",
    "        optimizer='sgd',\n",
    "        loss='mean_squared_error',\n",
    "        metrics=[\n",
    "        keras.metrics.ConcordanceCorrelation(name=\"acc\"),\n",
    "    ],\n",
    ")\n",
    "\n",
    "print(model.summary())\n",
    "\n",
    "batch_size = 8\n",
    "epochs = 3\n",
    "\n",
    "callbacks = [\n",
    "    keras.callbacks.ModelCheckpoint(filepath=\"model_at_epoch_{epoch}.keras\"),\n",
    "    keras.callbacks.EarlyStopping(monitor=\"val_loss\", patience=2),\n",
    "]\n",
    "\n",
    "model.fit(\n",
    "    x_train,\n",
    "    y_train,\n",
    "    batch_size=batch_size,\n",
    "    epochs=epochs,\n",
    "    validation_split=0.15,\n",
    "    callbacks=callbacks,\n",
    ")\n",
    "score = model.evaluate(x_test, y_test, verbose=1)"
   ]
  },
  {
   "cell_type": "code",
   "execution_count": 76,
   "metadata": {},
   "outputs": [],
   "source": [
    "x_real, y_real = get_x_y('CCCO')"
   ]
  },
  {
   "cell_type": "code",
   "execution_count": 77,
   "metadata": {},
   "outputs": [
    {
     "data": {
      "text/plain": [
       "(60, 60, 1)"
      ]
     },
     "execution_count": 77,
     "metadata": {},
     "output_type": "execute_result"
    }
   ],
   "source": [
    "x_real.shape"
   ]
  },
  {
   "cell_type": "code",
   "execution_count": 78,
   "metadata": {},
   "outputs": [
    {
     "data": {
      "text/plain": [
       "(60, 60, 1)"
      ]
     },
     "execution_count": 78,
     "metadata": {},
     "output_type": "execute_result"
    }
   ],
   "source": [
    "y_real.shape"
   ]
  },
  {
   "cell_type": "code",
   "execution_count": 83,
   "metadata": {},
   "outputs": [
    {
     "name": "stdout",
     "output_type": "stream",
     "text": [
      "\u001b[1m2/2\u001b[0m \u001b[32m━━━━━━━━━━━━━━━━━━━━\u001b[0m\u001b[37m\u001b[0m \u001b[1m0s\u001b[0m 89ms/step\n"
     ]
    }
   ],
   "source": [
    "prd = model.predict(x_real)"
   ]
  }
 ],
 "metadata": {
  "kernelspec": {
   "display_name": "base",
   "language": "python",
   "name": "python3"
  },
  "language_info": {
   "codemirror_mode": {
    "name": "ipython",
    "version": 3
   },
   "file_extension": ".py",
   "mimetype": "text/x-python",
   "name": "python",
   "nbconvert_exporter": "python",
   "pygments_lexer": "ipython3",
   "version": "3.12.5"
  }
 },
 "nbformat": 4,
 "nbformat_minor": 4
}
