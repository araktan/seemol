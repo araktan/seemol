{
 "cells": [
  {
   "cell_type": "code",
   "execution_count": 3,
   "metadata": {},
   "outputs": [],
   "source": [
    "import numpy as np\n",
    "import os\n",
    "\n",
    "os.environ[\"KERAS_BACKEND\"] = \"tensorflow\"\n",
    "\n",
    "import keras\n",
    "from rdkit import Chem\n",
    "import pandas as pd\n",
    "\n",
    "from sklearn.model_selection import train_test_split\n"
   ]
  },
  {
   "cell_type": "markdown",
   "metadata": {},
   "source": [
    "### Loading data\n",
    "\n",
    "SMILES are fetched from CSV and for each a PIL image and an adjacency matrix is generated.\n",
    "\n",
    "Adjacency matrix is padded with zeros. Both are loaded and converted into numpy arrays."
   ]
  },
  {
   "cell_type": "code",
   "execution_count": null,
   "metadata": {},
   "outputs": [],
   "source": [
    "def get_x_y(smiles_string, image_dims=(60, 60)):\n",
    "    # TODO: needs assertion that the string is good   \n",
    "    mol = Chem.MolFromSmiles(smiles_string)\n",
    "    img = Chem.Draw.MolToImage(mol, size=image_dims)\n",
    "    thresh = 200\n",
    "    fn = lambda x : 0 if x > thresh else 255\n",
    "    r = img.convert('L').point(fn, mode='1')\n",
    "    #r = img.convert('L')\n",
    "    adj = Chem.GetAdjacencyMatrix(mol)\n",
    "    padded_adj = np.zeros(image_dims)\n",
    "    for index, bond_val in np.ndenumerate(adj):\n",
    "        padded_adj[index] += bond_val\n",
    "    return np.expand_dims(np.array(r), -1), np.expand_dims(padded_adj, -1)\n",
    "# data\n",
    "#df = pd.read_excel('data/SMILES_ID.xlsx')\n",
    "df = pd.read_csv('data/SMILES.csv')\n",
    "output_shape = (300, 300)\n",
    "x_data, y_data = [],[]\n",
    "#sel_smiles = []\n",
    "for SMILES in df['SMILES']:\n",
    "    try:\n",
    "        img, adj_matrix = get_x_y(SMILES, image_dims=output_shape)\n",
    "        x_data.append(img)\n",
    "        y_data.append(adj_matrix)\n",
    "        #sel_smiles.append(SMILES)\n",
    "    #except Exception as e:\n",
    "        #print(SMILES, e)\n",
    "    except:\n",
    "        continue\n",
    "\n",
    "x_data, y_data = np.array(x_data), np.array(y_data)"
   ]
  },
  {
   "cell_type": "markdown",
   "metadata": {},
   "source": [
    "### Split data\n",
    "\n",
    "into train and test using sk-learn helper function"
   ]
  },
  {
   "cell_type": "code",
   "execution_count": null,
   "metadata": {},
   "outputs": [],
   "source": [
    "x_train, x_test, y_train, y_test = train_test_split(\n",
    "    x_data, y_data, test_size=0.33, random_state=42)\n",
    "#x_train = np.expand_dims(x_train, -1)\n",
    "#x_test = np.expand_dims(x_test, -1)\n",
    "#y_train = np.expand_dims(y_train, -1)\n",
    "#y_test = np.expand_dims(y_test, -1)\n",
    "print(\"x_train shape:\", x_train.shape)\n",
    "print(\"y_train shape:\", y_train.shape)\n",
    "print(x_train.shape, \"train samples\")\n",
    "print(x_test.shape, \"test samples\")"
   ]
  },
  {
   "cell_type": "markdown",
   "metadata": {},
   "source": [
    "### Model creation\n",
    "\n",
    "Adding layers"
   ]
  },
  {
   "cell_type": "code",
   "execution_count": null,
   "metadata": {},
   "outputs": [],
   "source": [
    "# Model parameters\n",
    "\n",
    "input_shape = (*output_shape, 1)\n",
    "\n",
    "model = keras.Sequential(\n",
    "    [   \n",
    "        keras.layers.Input(input_shape),\n",
    "        #keras.layers.Dense(60, activation='relu'),\n",
    "        keras.layers.Dense(30, activation='relu'),\n",
    "        keras.layers.Dense(20, activation=\"relu\"),\n",
    "        #keras.layers.Dense(10, activation=\"sigmoid\"),\n",
    "        #keras.layers.Dense(10, activation=\"relu\"),\n",
    "        #keras.layers.Dense(1, activation=\"relu\"),\n",
    "        #keras.layers.Dense(2, activation=\"relu\"),\n",
    "        #keras.layers.Conv2D(64, kernel_size=(3, 3), activation=\"relu\"),\n",
    "        #keras.layers.Conv2D(64, kernel_size=(3, 3), activation=\"relu\"),\n",
    "        keras.layers.MaxPooling2D(pool_size=(2, 2)),\n",
    "        #keras.layers.Conv2D(128, kernel_size=(3, 3), activation=\"relu\"),\n",
    "        #keras.layers.Conv2D(128, kernel_size=(3, 3), activation=\"relu\"),\n",
    "        #keras.layers.GlobalAveragePooling2D(),\n",
    "        #keras.layers.Dropout(0.5),\n",
    "        #keras.layers.Conv2D(64, kernel_size=(3,3), activation=\"relu\"),\n",
    "    ]\n",
    ")\n"
   ]
  },
  {
   "cell_type": "markdown",
   "metadata": {},
   "source": [
    "### Compiling model \n",
    "\n",
    "geting summary after compilation"
   ]
  },
  {
   "cell_type": "code",
   "execution_count": null,
   "metadata": {},
   "outputs": [],
   "source": [
    "\n",
    "model.compile(\n",
    "        optimizer='sgd',\n",
    "        loss='mean_squared_error',\n",
    "        metrics=[\n",
    "        keras.metrics.ConcordanceCorrelation(name=\"acc\"),\n",
    "    ],\n",
    ")\n",
    "\n",
    "print(model.summary())\n",
    "\n",
    "batch_size = 8\n",
    "epochs = 3\n",
    "\n",
    "callbacks = [\n",
    "    keras.callbacks.ModelCheckpoint(filepath=\"model_at_epoch_{epoch}.keras\"),\n",
    "    keras.callbacks.EarlyStopping(monitor=\"val_loss\", patience=2),\n",
    "]\n"
   ]
  },
  {
   "cell_type": "markdown",
   "metadata": {},
   "source": [
    "### Training"
   ]
  },
  {
   "cell_type": "code",
   "execution_count": null,
   "metadata": {},
   "outputs": [],
   "source": [
    "\n",
    "model.fit(\n",
    "    x_train,\n",
    "    y_train,\n",
    "    batch_size=batch_size,\n",
    "    epochs=epochs,\n",
    "    validation_split=0.15,\n",
    "    callbacks=callbacks,\n",
    ")\n",
    "score = model.evaluate(x_test, y_test, verbose=1)"
   ]
  },
  {
   "cell_type": "markdown",
   "metadata": {},
   "source": [
    "### Prediction test\n",
    "\n",
    "test shape of final output"
   ]
  },
  {
   "cell_type": "code",
   "execution_count": 76,
   "metadata": {},
   "outputs": [],
   "source": [
    "x_real, y_real = get_x_y('CCCO')\n",
    "print('real x shape: ', x_real.shape)\n",
    "print('real y shape: ', y_real.shape)\n",
    "prd = model.predict(x_real)\n",
    "print('predicted y shape: ', prd.shape)"
   ]
  }
 ],
 "metadata": {
  "kernelspec": {
   "display_name": "base",
   "language": "python",
   "name": "python3"
  },
  "language_info": {
   "codemirror_mode": {
    "name": "ipython",
    "version": 3
   },
   "file_extension": ".py",
   "mimetype": "text/x-python",
   "name": "python",
   "nbconvert_exporter": "python",
   "pygments_lexer": "ipython3",
   "version": "3.12.5"
  }
 },
 "nbformat": 4,
 "nbformat_minor": 4
}
